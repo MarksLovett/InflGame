{
 "cells": [
  {
   "cell_type": "code",
   "execution_count": 1,
   "id": "5a468ce8",
   "metadata": {},
   "outputs": [],
   "source": [
    "import numpy as np\n",
    "import seaborn as sns\n",
    "import matplotlib.pyplot as plt\n",
    "import random\n",
    "\n",
    "import hickle as hkl\n",
    "from torch.nn import Softmax\n",
    "\n",
    "from InflGame.utils.general import *\n",
    "import InflGame.domains.rd as rd\n",
    "from InflGame.utils.data_management import *\n",
    "\n",
    "from InflGame.MARL.MARL_plots import *\n",
    "from InflGame.MARL.sync_game import influencer_env_sync\n",
    "from InflGame.MARL.IQL_sync import IQL_sync\n",
    "from InflGame.MARL.utils.IQL_utils import *\n",
    "from InflGame.MARL.utils.MARL_utils import *\n",
    "from InflGame.MARL.utils.my_parse import add_rl_example_script_args\n",
    "\n",
    "\n",
    "from InflGame.MARL.utils.experiments import run_experiment\n"
   ]
  },
  {
   "cell_type": "code",
   "execution_count": 2,
   "id": "baffc366",
   "metadata": {},
   "outputs": [
    {
     "name": "stdout",
     "output_type": "stream",
     "text": [
      "Running IQL Sync Game\n"
     ]
    }
   ],
   "source": [
    "print(\"Running IQL Sync Game\")"
   ]
  },
  {
   "cell_type": "code",
   "execution_count": 4,
   "id": "f2df70de",
   "metadata": {},
   "outputs": [],
   "source": [
    "for num_agents in [2,3,4]:\n",
    "    for agent_param in [.15,.35,1]:\n",
    "        for step in [.1]:\n",
    "            for resource in [\"gauss_mix_2m\"]:\n",
    "                for player_id in range(num_agents):\n",
    "                    env_config_main = {\"num_agents\":num_agents,\"parameters\":[agent_param],\"step_size\":step}\n",
    "                    configs={\"env_config_main\":env_config_main}\n",
    "                    params=data_parameters(configs=configs,data_type=\"configs\",resource_type=resource)\n",
    "                    config_name=data_final_name(data_parameters=params,name_ads=[])\n",
    "                    params=data_parameters(configs=configs,data_type=\"q_tables\",resource_type=resource)\n",
    "                    data_name=data_final_name(data_parameters=params,name_ads=['mean'])\n",
    "                    q_mean=hkl.load(data_name[0])\n",
    "                    fig=policy_histogram(q_tensor=torch.tensor(q_mean),agent_id=player_id,temperature=.01)\n",
    "                    figure_parms={\"data_type\":\"plot\",\"plot_type\":\"policy_avg\",\"num_agents\":str(num_agents)+\"_agents\",\"agent_param\":str(agent_param)+\"_sig\",\"step_size\":str(step),\"resource_type\":resource,\"player_id\":player_id}\n",
    "                    names=data_final_name(figure_parms,name_ads=[],save_types=['.svg','.png'])\n",
    "                    for name in names:\n",
    "                        fig.savefig(name,format=name.split('.')[-1],dpi=300,bbox_inches='tight')"
   ]
  },
  {
   "cell_type": "code",
   "execution_count": null,
   "id": "12414861",
   "metadata": {},
   "outputs": [
    {
     "ename": "FileNotFoundError",
     "evalue": "[Errno 2] Unable to synchronously open file (unable to open file: name = 'C:\\Users\\Mark-Fu-Lab\\Dartmouth College Dropbox\\Mark Lovett\\Mark-Fu Lab\\influencer_games\\src\\InflGame\\utils\\data\\2_agents\\sig_15\\gauss_mix_2m\\10_states\\q_table_checkpoint_epoch0.hkl', errno = 2, error message = 'No such file or directory', flags = 0, o_flags = 0)",
     "output_type": "error",
     "traceback": [
      "\u001b[1;31m---------------------------------------------------------------------------\u001b[0m",
      "\u001b[1;31mFileNotFoundError\u001b[0m                         Traceback (most recent call last)",
      "Cell \u001b[1;32mIn[2], line 13\u001b[0m\n\u001b[0;32m     11\u001b[0m params\u001b[38;5;241m=\u001b[39mdata_parameters(configs\u001b[38;5;241m=\u001b[39mconfigs,data_type\u001b[38;5;241m=\u001b[39m\u001b[38;5;124m\"\u001b[39m\u001b[38;5;124mq_tables\u001b[39m\u001b[38;5;124m\"\u001b[39m,resource_type\u001b[38;5;241m=\u001b[39mresource)\n\u001b[0;32m     12\u001b[0m data_name\u001b[38;5;241m=\u001b[39mdata_final_name(data_parameters\u001b[38;5;241m=\u001b[39mparams,name_ads\u001b[38;5;241m=\u001b[39m[\u001b[38;5;124m\"\u001b[39m\u001b[38;5;124mcheckpoint\u001b[39m\u001b[38;5;124m\"\u001b[39m]\u001b[38;5;241m+\u001b[39m[\u001b[38;5;124m\"\u001b[39m\u001b[38;5;124mepoch\u001b[39m\u001b[38;5;124m\"\u001b[39m\u001b[38;5;241m+\u001b[39m\u001b[38;5;28mstr\u001b[39m(checkpoint)])\n\u001b[1;32m---> 13\u001b[0m q_mean\u001b[38;5;241m=\u001b[39m\u001b[43mhkl\u001b[49m\u001b[38;5;241;43m.\u001b[39;49m\u001b[43mload\u001b[49m\u001b[43m(\u001b[49m\u001b[43mdata_name\u001b[49m\u001b[43m[\u001b[49m\u001b[38;5;241;43m0\u001b[39;49m\u001b[43m]\u001b[49m\u001b[43m)\u001b[49m\n\u001b[0;32m     14\u001b[0m fig\u001b[38;5;241m=\u001b[39mpolicy_histogram(q_tensor\u001b[38;5;241m=\u001b[39mtorch\u001b[38;5;241m.\u001b[39mtensor(q_mean),agent_id\u001b[38;5;241m=\u001b[39mplayer_id,temperature\u001b[38;5;241m=\u001b[39m\u001b[38;5;241m.01\u001b[39m)\n\u001b[0;32m     15\u001b[0m figure_parms\u001b[38;5;241m=\u001b[39m{\u001b[38;5;124m\"\u001b[39m\u001b[38;5;124mdata_type\u001b[39m\u001b[38;5;124m\"\u001b[39m:\u001b[38;5;124m\"\u001b[39m\u001b[38;5;124mplot\u001b[39m\u001b[38;5;124m\"\u001b[39m,\u001b[38;5;124m\"\u001b[39m\u001b[38;5;124mplot_type\u001b[39m\u001b[38;5;124m\"\u001b[39m:\u001b[38;5;124m\"\u001b[39m\u001b[38;5;124mpolicy_avg\u001b[39m\u001b[38;5;124m\"\u001b[39m,\u001b[38;5;124m\"\u001b[39m\u001b[38;5;124mnum_agents\u001b[39m\u001b[38;5;124m\"\u001b[39m:\u001b[38;5;28mstr\u001b[39m(num_agents)\u001b[38;5;241m+\u001b[39m\u001b[38;5;124m\"\u001b[39m\u001b[38;5;124m_agents\u001b[39m\u001b[38;5;124m\"\u001b[39m,\u001b[38;5;124m\"\u001b[39m\u001b[38;5;124magent_param\u001b[39m\u001b[38;5;124m\"\u001b[39m:\u001b[38;5;28mstr\u001b[39m(agent_param)\u001b[38;5;241m+\u001b[39m\u001b[38;5;124m\"\u001b[39m\u001b[38;5;124m_sig\u001b[39m\u001b[38;5;124m\"\u001b[39m,\u001b[38;5;124m\"\u001b[39m\u001b[38;5;124mstep_size\u001b[39m\u001b[38;5;124m\"\u001b[39m:\u001b[38;5;28mstr\u001b[39m(step),\u001b[38;5;124m\"\u001b[39m\u001b[38;5;124mresource_type\u001b[39m\u001b[38;5;124m\"\u001b[39m:resource,\u001b[38;5;124m\"\u001b[39m\u001b[38;5;124mplayer_id\u001b[39m\u001b[38;5;124m\"\u001b[39m:player_id,\u001b[38;5;124m\"\u001b[39m\u001b[38;5;124mextra\u001b[39m\u001b[38;5;124m\"\u001b[39m:\u001b[38;5;124m\"\u001b[39m\u001b[38;5;124mcheckpoints\u001b[39m\u001b[38;5;124m\"\u001b[39m}\n",
      "File \u001b[1;32mc:\\Users\\Mark-Fu-Lab\\miniconda3\\envs\\infl_clean\\Lib\\site-packages\\hickle\\hickle.py:321\u001b[0m, in \u001b[0;36mload\u001b[1;34m(file_obj, path, safe, filename)\u001b[0m\n\u001b[0;32m    264\u001b[0m \u001b[38;5;250m\u001b[39m\u001b[38;5;124;03m\"\"\"\u001b[39;00m\n\u001b[0;32m    265\u001b[0m \u001b[38;5;124;03mLoad the Python object stored in `file_obj` at `path` and return it.\u001b[39;00m\n\u001b[0;32m    266\u001b[0m \n\u001b[1;32m   (...)\u001b[0m\n\u001b[0;32m    317\u001b[0m \u001b[38;5;124;03m    If anything else than str, bytes or None specified for filename\u001b[39;00m\n\u001b[0;32m    318\u001b[0m \u001b[38;5;124;03m\"\"\"\u001b[39;00m\n\u001b[0;32m    320\u001b[0m \u001b[38;5;66;03m# Try to read the provided file_obj as a hickle file\u001b[39;00m\n\u001b[1;32m--> 321\u001b[0m h5f, path, close_flag \u001b[38;5;241m=\u001b[39m \u001b[43mfile_opener\u001b[49m\u001b[43m(\u001b[49m\u001b[43mfile_obj\u001b[49m\u001b[43m,\u001b[49m\u001b[43m \u001b[49m\u001b[43mpath\u001b[49m\u001b[43m,\u001b[49m\u001b[43m \u001b[49m\u001b[38;5;124;43m'\u001b[39;49m\u001b[38;5;124;43mr\u001b[39;49m\u001b[38;5;124;43m'\u001b[39;49m\u001b[43m,\u001b[49m\u001b[43m \u001b[49m\u001b[43mfilename\u001b[49m\u001b[43m)\u001b[49m\n\u001b[0;32m    322\u001b[0m \u001b[38;5;28;01mtry\u001b[39;00m:\n\u001b[0;32m    323\u001b[0m     h_root_group \u001b[38;5;241m=\u001b[39m h5f\u001b[38;5;241m.\u001b[39mget(path,\u001b[38;5;28;01mNone\u001b[39;00m) \u001b[38;5;66;03m# only used by v4\u001b[39;00m\n",
      "File \u001b[1;32mc:\\Users\\Mark-Fu-Lab\\miniconda3\\envs\\infl_clean\\Lib\\site-packages\\hickle\\fileio.py:147\u001b[0m, in \u001b[0;36mfile_opener\u001b[1;34m(f, path, mode, filename)\u001b[0m\n\u001b[0;32m    145\u001b[0m \u001b[38;5;66;03m# Were we handed a file object or just a file name string?\u001b[39;00m\n\u001b[0;32m    146\u001b[0m \u001b[38;5;28;01mif\u001b[39;00m \u001b[38;5;28misinstance\u001b[39m(f, (\u001b[38;5;28mstr\u001b[39m, Path)):\n\u001b[1;32m--> 147\u001b[0m     \u001b[38;5;28;01mreturn\u001b[39;00m \u001b[43mh5\u001b[49m\u001b[38;5;241;43m.\u001b[39;49m\u001b[43mFile\u001b[49m\u001b[43m(\u001b[49m\u001b[43mf\u001b[49m\u001b[43m,\u001b[49m\u001b[43m \u001b[49m\u001b[43mmode\u001b[49m\u001b[38;5;241;43m.\u001b[39;49m\u001b[43mreplace\u001b[49m\u001b[43m(\u001b[49m\u001b[38;5;124;43m'\u001b[39;49m\u001b[38;5;124;43mb\u001b[39;49m\u001b[38;5;124;43m'\u001b[39;49m\u001b[43m,\u001b[49m\u001b[38;5;124;43m'\u001b[39;49m\u001b[38;5;124;43m'\u001b[39;49m\u001b[43m)\u001b[49m\u001b[43m)\u001b[49m,path,\u001b[38;5;28;01mTrue\u001b[39;00m\n\u001b[0;32m    148\u001b[0m \u001b[38;5;28;01mif\u001b[39;00m \u001b[38;5;28misinstance\u001b[39m(f, h5\u001b[38;5;241m.\u001b[39mGroup):\n\u001b[0;32m    149\u001b[0m     \u001b[38;5;28;01mif\u001b[39;00m \u001b[38;5;129;01mnot\u001b[39;00m f:\n",
      "File \u001b[1;32mc:\\Users\\Mark-Fu-Lab\\miniconda3\\envs\\infl_clean\\Lib\\site-packages\\h5py\\_hl\\files.py:564\u001b[0m, in \u001b[0;36mFile.__init__\u001b[1;34m(self, name, mode, driver, libver, userblock_size, swmr, rdcc_nslots, rdcc_nbytes, rdcc_w0, track_order, fs_strategy, fs_persist, fs_threshold, fs_page_size, page_buf_size, min_meta_keep, min_raw_keep, locking, alignment_threshold, alignment_interval, meta_block_size, **kwds)\u001b[0m\n\u001b[0;32m    555\u001b[0m     fapl \u001b[38;5;241m=\u001b[39m make_fapl(driver, libver, rdcc_nslots, rdcc_nbytes, rdcc_w0,\n\u001b[0;32m    556\u001b[0m                      locking, page_buf_size, min_meta_keep, min_raw_keep,\n\u001b[0;32m    557\u001b[0m                      alignment_threshold\u001b[38;5;241m=\u001b[39malignment_threshold,\n\u001b[0;32m    558\u001b[0m                      alignment_interval\u001b[38;5;241m=\u001b[39malignment_interval,\n\u001b[0;32m    559\u001b[0m                      meta_block_size\u001b[38;5;241m=\u001b[39mmeta_block_size,\n\u001b[0;32m    560\u001b[0m                      \u001b[38;5;241m*\u001b[39m\u001b[38;5;241m*\u001b[39mkwds)\n\u001b[0;32m    561\u001b[0m     fcpl \u001b[38;5;241m=\u001b[39m make_fcpl(track_order\u001b[38;5;241m=\u001b[39mtrack_order, fs_strategy\u001b[38;5;241m=\u001b[39mfs_strategy,\n\u001b[0;32m    562\u001b[0m                      fs_persist\u001b[38;5;241m=\u001b[39mfs_persist, fs_threshold\u001b[38;5;241m=\u001b[39mfs_threshold,\n\u001b[0;32m    563\u001b[0m                      fs_page_size\u001b[38;5;241m=\u001b[39mfs_page_size)\n\u001b[1;32m--> 564\u001b[0m     fid \u001b[38;5;241m=\u001b[39m \u001b[43mmake_fid\u001b[49m\u001b[43m(\u001b[49m\u001b[43mname\u001b[49m\u001b[43m,\u001b[49m\u001b[43m \u001b[49m\u001b[43mmode\u001b[49m\u001b[43m,\u001b[49m\u001b[43m \u001b[49m\u001b[43muserblock_size\u001b[49m\u001b[43m,\u001b[49m\u001b[43m \u001b[49m\u001b[43mfapl\u001b[49m\u001b[43m,\u001b[49m\u001b[43m \u001b[49m\u001b[43mfcpl\u001b[49m\u001b[43m,\u001b[49m\u001b[43m \u001b[49m\u001b[43mswmr\u001b[49m\u001b[38;5;241;43m=\u001b[39;49m\u001b[43mswmr\u001b[49m\u001b[43m)\u001b[49m\n\u001b[0;32m    566\u001b[0m \u001b[38;5;28;01mif\u001b[39;00m \u001b[38;5;28misinstance\u001b[39m(libver, \u001b[38;5;28mtuple\u001b[39m):\n\u001b[0;32m    567\u001b[0m     \u001b[38;5;28mself\u001b[39m\u001b[38;5;241m.\u001b[39m_libver \u001b[38;5;241m=\u001b[39m libver\n",
      "File \u001b[1;32mc:\\Users\\Mark-Fu-Lab\\miniconda3\\envs\\infl_clean\\Lib\\site-packages\\h5py\\_hl\\files.py:238\u001b[0m, in \u001b[0;36mmake_fid\u001b[1;34m(name, mode, userblock_size, fapl, fcpl, swmr)\u001b[0m\n\u001b[0;32m    236\u001b[0m     \u001b[38;5;28;01mif\u001b[39;00m swmr \u001b[38;5;129;01mand\u001b[39;00m swmr_support:\n\u001b[0;32m    237\u001b[0m         flags \u001b[38;5;241m|\u001b[39m\u001b[38;5;241m=\u001b[39m h5f\u001b[38;5;241m.\u001b[39mACC_SWMR_READ\n\u001b[1;32m--> 238\u001b[0m     fid \u001b[38;5;241m=\u001b[39m \u001b[43mh5f\u001b[49m\u001b[38;5;241;43m.\u001b[39;49m\u001b[43mopen\u001b[49m\u001b[43m(\u001b[49m\u001b[43mname\u001b[49m\u001b[43m,\u001b[49m\u001b[43m \u001b[49m\u001b[43mflags\u001b[49m\u001b[43m,\u001b[49m\u001b[43m \u001b[49m\u001b[43mfapl\u001b[49m\u001b[38;5;241;43m=\u001b[39;49m\u001b[43mfapl\u001b[49m\u001b[43m)\u001b[49m\n\u001b[0;32m    239\u001b[0m \u001b[38;5;28;01melif\u001b[39;00m mode \u001b[38;5;241m==\u001b[39m \u001b[38;5;124m'\u001b[39m\u001b[38;5;124mr+\u001b[39m\u001b[38;5;124m'\u001b[39m:\n\u001b[0;32m    240\u001b[0m     fid \u001b[38;5;241m=\u001b[39m h5f\u001b[38;5;241m.\u001b[39mopen(name, h5f\u001b[38;5;241m.\u001b[39mACC_RDWR, fapl\u001b[38;5;241m=\u001b[39mfapl)\n",
      "File \u001b[1;32mh5py\\\\_objects.pyx:54\u001b[0m, in \u001b[0;36mh5py._objects.with_phil.wrapper\u001b[1;34m()\u001b[0m\n",
      "File \u001b[1;32mh5py\\\\_objects.pyx:55\u001b[0m, in \u001b[0;36mh5py._objects.with_phil.wrapper\u001b[1;34m()\u001b[0m\n",
      "File \u001b[1;32mh5py\\\\h5f.pyx:102\u001b[0m, in \u001b[0;36mh5py.h5f.open\u001b[1;34m()\u001b[0m\n",
      "\u001b[1;31mFileNotFoundError\u001b[0m: [Errno 2] Unable to synchronously open file (unable to open file: name = 'C:\\Users\\Mark-Fu-Lab\\Dartmouth College Dropbox\\Mark Lovett\\Mark-Fu Lab\\influencer_games\\src\\InflGame\\utils\\data\\2_agents\\sig_15\\gauss_mix_2m\\10_states\\q_table_checkpoint_epoch0.hkl', errno = 2, error message = 'No such file or directory', flags = 0, o_flags = 0)"
     ]
    }
   ],
   "source": [
    "num_agents=2\n",
    "agent_param =.15 \n",
    "step = .1\n",
    "resource =\"gauss_mix_2m\"\n",
    "player_id = 0\n",
    "for checkpoint in range(0,10000,100):\n",
    "    env_config_main = {\"num_agents\":num_agents,\"parameters\":[agent_param],\"step_size\":step}\n",
    "    configs={\"env_config_main\":env_config_main}\n",
    "    params=data_parameters(configs=configs,data_type=\"configs\",resource_type=resource)\n",
    "    config_name=data_final_name(data_parameters=params,name_ads=[])\n",
    "    params=data_parameters(configs=configs,data_type=\"q_tables\",resource_type=resource)\n",
    "    data_name=data_final_name(data_parameters=params,name_ads=[\"checkpoint\"]+[\"epoch\"+str(checkpoint)])\n",
    "    "
   ]
  },
  {
   "cell_type": "code",
   "execution_count": null,
   "id": "5f3a0f09",
   "metadata": {},
   "outputs": [],
   "source": [
    "num_agents=2\n",
    "agent_param =.15 \n",
    "step = .1\n",
    "resource =\"gauss_mix_2m\"\n",
    "player_id = 0\n",
    "env_config_main = {\"num_agents\":num_agents,\"parameters\":[agent_param],\"step_size\":step}\n",
    "configs={\"env_config_main\":env_config_main}\n",
    "params=data_parameters(configs=configs,data_type=\"configs\",resource_type=resource)\n",
    "config_name=data_final_name(data_parameters=params,name_ads=[])\n",
    "params=data_parameters(configs=configs,data_type=\"q_tables\",resource_type=resource)\n",
    "data_name=data_final_name(data_parameters=params,name_ads=[\"checkpoint\"]+[\"epoch\"+str(checkpoint)])"
   ]
  },
  {
   "cell_type": "code",
   "execution_count": 3,
   "id": "dfaa8614",
   "metadata": {},
   "outputs": [
    {
     "data": {
      "text/plain": [
       "['C:\\\\Users\\\\Mark-Fu-Lab\\\\Dartmouth College Dropbox\\\\Mark Lovett\\\\Mark-Fu Lab\\\\influencer_games\\\\src\\\\InflGame\\\\utils\\\\data\\\\2_agents\\\\sig_15\\\\gauss_mix_2m\\\\10_states\\\\q_table_checkpoint_epoch0.hkl']"
      ]
     },
     "execution_count": 3,
     "metadata": {},
     "output_type": "execute_result"
    }
   ],
   "source": [
    "data_name"
   ]
  },
  {
   "cell_type": "code",
   "execution_count": null,
   "id": "5960758d",
   "metadata": {},
   "outputs": [],
   "source": [
    "q_mean=hkl.load(data_name[0])\n",
    "fig=policy_histogram(q_tensor=torch.tensor(q_mean),agent_id=player_id,temperature=.01)\n",
    "figure_parms={\"data_type\":\"plot\",\"plot_type\":\"policy_avg\",\"num_agents\":str(num_agents)+\"_agents\",\"agent_param\":str(agent_param)+\"_sig\",\"step_size\":str(step),\"resource_type\":resource,\"player_id\":player_id,\"extra\":\"checkpoints\"}\n",
    "names=data_final_name(figure_parms,name_ads=[],save_types=['.svg','.png'])\n",
    "for name in names:\n",
    "    fig.savefig(name,format=name.split('.')[-1],dpi=300,bbox_inches='tight')"
   ]
  }
 ],
 "metadata": {
  "kernelspec": {
   "display_name": "infl_clean",
   "language": "python",
   "name": "python3"
  },
  "language_info": {
   "codemirror_mode": {
    "name": "ipython",
    "version": 3
   },
   "file_extension": ".py",
   "mimetype": "text/x-python",
   "name": "python",
   "nbconvert_exporter": "python",
   "pygments_lexer": "ipython3",
   "version": "3.11.11"
  }
 },
 "nbformat": 4,
 "nbformat_minor": 5
}
