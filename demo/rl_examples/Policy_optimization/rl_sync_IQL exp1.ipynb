{
 "cells": [
  {
   "cell_type": "code",
   "execution_count": 1,
   "metadata": {},
   "outputs": [],
   "source": [
    "import numpy as np\n",
    "import seaborn as sns\n",
    "import matplotlib.pyplot as plt\n",
    "import random\n",
    "\n",
    "import hickle as hkl\n",
    "from torch.nn import Softmax\n",
    "\n",
    "from InflGame.utils.general import *\n",
    "import InflGame.domains.rd as rd\n",
    "from InflGame.utils.data_management import *\n",
    "\n",
    "from InflGame.MARL.MARL_plots import *\n",
    "from InflGame.MARL.sync_game import influencer_env_sync\n",
    "from InflGame.MARL.IQL_sync import IQL_sync\n",
    "from InflGame.MARL.utils.IQL_utils import *\n",
    "from InflGame.MARL.utils.MARL_utils import *\n",
    "from InflGame.MARL.utils.my_parse import add_rl_example_script_args\n",
    "\n",
    "\n",
    "from InflGame.MARL.utils.experiments import run_experiment\n"
   ]
  },
  {
   "cell_type": "code",
   "execution_count": 2,
   "metadata": {},
   "outputs": [],
   "source": [
    "resource_parameters_gaussian=[[.1,.1],[.25,.75],[1,1]] #[[sd1, sd2,], [mean1,mean2], [factor1,factor2]]\n",
    "#actual resource distribution\n",
    "\n",
    "bin_points=np.linspace(.001, .999, 100)\n",
    "resource_distribution2=rd.resource_distribution_choice(bin_points=bin_points,resource_type='multi_modal_gaussian_distribution_1D',resource_parameters=resource_parameters_gaussian)"
   ]
  },
  {
   "cell_type": "code",
   "execution_count": 9,
   "metadata": {},
   "outputs": [],
   "source": [
    "parser = add_rl_example_script_args(default_reward=1, default_iters=50, default_timesteps=100000)\n",
    "parser.set_defaults(\n",
    "    enable_new_api_stack=True,\n",
    "    resource_distribution=resource_distribution2,\n",
    ")\n",
    "R=0.1\n",
    "cshift=np.exp(-1/2*(bin_points-0)**2/R**2)+np.exp(-1/2*(bin_points-1)**2/R**2)\n",
    "\n",
    "\n",
    "args=parser.parse_args(args=[])\n",
    "env_config_main={\"num_agents\": 4,\"initial_position\":np.array([.1,.4,.6,.9]),\"bin_points\":args.bin_points,\"resource_distribution\":args.resource_distribution,\n",
    "                 \"step_size\":.1,\"infl_configs\":args.infl_configs,\"parameters\":np.array([1,1,1,1]),\"domain_type\":args.domain_type,\n",
    "                 \"domain_bounds\":args.domain_bounds,\"fixed_pa\":args.fixed_pa,\"infl_cshift\":False,\"cshift\":cshift,\"infl_fshift\":False,\"Q\":0,\n",
    "                 \"NUM_ITERS\":100,\"normalize_reward\":True}\n",
    "env=influencer_env_sync(config=env_config_main)"
   ]
  },
  {
   "cell_type": "code",
   "execution_count": 10,
   "metadata": {},
   "outputs": [],
   "source": [
    "episode_configs={\"TYPE\":\"fixed\",\"episode_max\":20000,\"episode_min\":10}\n",
    "temperature_configs={\"TYPE\":\"fixed\",\"temperature\":0.5}\n",
    "epsilon_configs={\"TYPE\":\"fixed\",\"epsilon\":0.1}\n"
   ]
  },
  {
   "cell_type": "code",
   "execution_count": 11,
   "metadata": {},
   "outputs": [
    {
     "name": "stdout",
     "output_type": "stream",
     "text": [
      "Trial: 1/100 complete\n",
      "Trial: 2/100 complete\n",
      "Trial: 3/100 complete\n",
      "Trial: 4/100 complete\n",
      "Trial: 5/100 complete\n",
      "Trial: 6/100 complete\n",
      "Trial: 7/100 complete\n",
      "Trial: 8/100 complete\n",
      "Trial: 9/100 complete\n",
      "Trial: 10/100 complete\n",
      "Trial: 11/100 complete\n",
      "Trial: 12/100 complete\n",
      "Trial: 13/100 complete\n",
      "Trial: 14/100 complete\n",
      "Trial: 15/100 complete\n",
      "Trial: 16/100 complete\n",
      "Trial: 17/100 complete\n",
      "Trial: 18/100 complete\n",
      "Trial: 19/100 complete\n",
      "Trial: 20/100 complete\n",
      "Trial: 21/100 complete\n",
      "Trial: 22/100 complete\n",
      "Trial: 23/100 complete\n",
      "Trial: 24/100 complete\n",
      "Trial: 25/100 complete\n",
      "Trial: 26/100 complete\n",
      "Trial: 27/100 complete\n",
      "Trial: 28/100 complete\n",
      "Trial: 29/100 complete\n",
      "Trial: 30/100 complete\n",
      "Trial: 31/100 complete\n",
      "Trial: 32/100 complete\n",
      "Trial: 33/100 complete\n",
      "Trial: 34/100 complete\n",
      "Trial: 35/100 complete\n",
      "Trial: 36/100 complete\n",
      "Trial: 37/100 complete\n",
      "Trial: 38/100 complete\n",
      "Trial: 39/100 complete\n",
      "Trial: 40/100 complete\n",
      "Trial: 41/100 complete\n",
      "Trial: 42/100 complete\n",
      "Trial: 43/100 complete\n",
      "Trial: 44/100 complete\n",
      "Trial: 45/100 complete\n",
      "Trial: 46/100 complete\n",
      "Trial: 47/100 complete\n",
      "Trial: 48/100 complete\n",
      "Trial: 49/100 complete\n",
      "Trial: 50/100 complete\n",
      "Trial: 51/100 complete\n",
      "Trial: 52/100 complete\n",
      "Trial: 53/100 complete\n",
      "Trial: 54/100 complete\n",
      "Trial: 55/100 complete\n",
      "Trial: 56/100 complete\n",
      "Trial: 57/100 complete\n",
      "Trial: 58/100 complete\n",
      "Trial: 59/100 complete\n",
      "Trial: 60/100 complete\n",
      "Trial: 61/100 complete\n",
      "Trial: 62/100 complete\n",
      "Trial: 63/100 complete\n",
      "Trial: 64/100 complete\n",
      "Trial: 65/100 complete\n",
      "Trial: 66/100 complete\n",
      "Trial: 67/100 complete\n",
      "Trial: 68/100 complete\n",
      "Trial: 69/100 complete\n",
      "Trial: 70/100 complete\n",
      "Trial: 71/100 complete\n",
      "Trial: 72/100 complete\n",
      "Trial: 73/100 complete\n",
      "Trial: 74/100 complete\n",
      "Trial: 75/100 complete\n",
      "Trial: 76/100 complete\n",
      "Trial: 77/100 complete\n",
      "Trial: 78/100 complete\n",
      "Trial: 79/100 complete\n",
      "Trial: 80/100 complete\n",
      "Trial: 81/100 complete\n",
      "Trial: 82/100 complete\n",
      "Trial: 83/100 complete\n",
      "Trial: 84/100 complete\n",
      "Trial: 85/100 complete\n",
      "Trial: 86/100 complete\n",
      "Trial: 87/100 complete\n",
      "Trial: 88/100 complete\n",
      "Trial: 89/100 complete\n",
      "Trial: 90/100 complete\n",
      "Trial: 91/100 complete\n",
      "Trial: 92/100 complete\n",
      "Trial: 93/100 complete\n",
      "Trial: 94/100 complete\n",
      "Trial: 95/100 complete\n",
      "Trial: 96/100 complete\n",
      "Trial: 97/100 complete\n",
      "Trial: 98/100 complete\n",
      "Trial: 99/100 complete\n",
      "Trial: 100/100 complete\n"
     ]
    }
   ],
   "source": [
    "q_tensor=run_experiment(action_type='sync',\n",
    "               env_configs=env_config_main,\n",
    "               trials=100,\n",
    "               gamma=.5,\n",
    "               alpha=.005,\n",
    "               epochs=0,\n",
    "               random_seed=0,\n",
    "               random_initialization=False,\n",
    "               smoothing=False,\n",
    "               temperature_configs=temperature_configs,\n",
    "               epsilon_configs=epsilon_configs,\n",
    "               episode_configs=episode_configs,\n",
    "               resource_name=\"gauss_mix_2m\",\n",
    "               name_ads=[\"test\",\"No_epochs\"],\n",
    "               checkpoints=False,\n",
    "               save_positions=True,\n",
    "               algo_epoch=False \n",
    ")"
   ]
  },
  {
   "cell_type": "code",
   "execution_count": 6,
   "metadata": {},
   "outputs": [],
   "source": [
    "test={'player0': 9, 'player1': 6}"
   ]
  },
  {
   "cell_type": "code",
   "execution_count": 7,
   "metadata": {},
   "outputs": [
    {
     "data": {
      "text/plain": [
       "[0.9, 0.6]"
      ]
     },
     "execution_count": 7,
     "metadata": {},
     "output_type": "execute_result"
    }
   ],
   "source": [
    "observation_to_position(observations=test, possible_positions=[0,.1,.2,.3,.4,.5,.6,.7,.8,.9,1.0])"
   ]
  },
  {
   "cell_type": "code",
   "execution_count": 8,
   "metadata": {},
   "outputs": [
    {
     "ename": "NameError",
     "evalue": "name 'q_mean' is not defined",
     "output_type": "error",
     "traceback": [
      "\u001b[1;31m---------------------------------------------------------------------------\u001b[0m",
      "\u001b[1;31mNameError\u001b[0m                                 Traceback (most recent call last)",
      "Cell \u001b[1;32mIn[8], line 1\u001b[0m\n\u001b[1;32m----> 1\u001b[0m policy_histogram(q_tensor\u001b[38;5;241m=\u001b[39m\u001b[43mq_mean\u001b[49m,temperature\u001b[38;5;241m=\u001b[39m\u001b[38;5;241m.01\u001b[39m)\n",
      "\u001b[1;31mNameError\u001b[0m: name 'q_mean' is not defined"
     ]
    }
   ],
   "source": [
    "policy_histogram(q_tensor=q_mean,temperature=.01)"
   ]
  },
  {
   "cell_type": "code",
   "execution_count": null,
   "metadata": {},
   "outputs": [
    {
     "data": {
      "image/png": "[encoded data removed]",
      "text/plain": [
       "<Figure size 640x480 with 2 Axes>"
      ]
     },
     "execution_count": 12,
     "metadata": {},
     "output_type": "execute_result"
    }
   ],
   "source": [
    "policy_histogram(q_tensor=q_mean,agent_id=1,temperature=.01)"
   ]
  },
  {
   "cell_type": "code",
   "execution_count": null,
   "metadata": {},
   "outputs": [
    {
     "ename": "NameError",
     "evalue": "name 'policy_determinsiticly_to_actions' is not defined",
     "output_type": "error",
     "traceback": [
      "\u001b[1;31m---------------------------------------------------------------------------\u001b[0m",
      "\u001b[1;31mNameError\u001b[0m                                 Traceback (most recent call last)",
      "Cell \u001b[1;32mIn[13], line 1\u001b[0m\n\u001b[1;32m----> 1\u001b[0m pos_matrix, reward_matrix\u001b[38;5;241m=\u001b[39m\u001b[43mpolicy_determinsiticly_to_actions\u001b[49m(env\u001b[38;5;241m=\u001b[39minfluencer_env_sync(env_config_main),q_tensor\u001b[38;5;241m=\u001b[39mq_mean,intial_postion\u001b[38;5;241m=\u001b[39mnp\u001b[38;5;241m.\u001b[39marray([\u001b[38;5;241m.1\u001b[39m,\u001b[38;5;241m.2\u001b[39m,\u001b[38;5;241m.3\u001b[39m,\u001b[38;5;241m.8\u001b[39m]),num_step\u001b[38;5;241m=\u001b[39m\u001b[38;5;241m100\u001b[39m,temperature\u001b[38;5;241m=\u001b[39m\u001b[38;5;241m0.5\u001b[39m)\n",
      "\u001b[1;31mNameError\u001b[0m: name 'policy_determinsiticly_to_actions' is not defined"
     ]
    }
   ],
   "source": [
    "pos_matrix, reward_matrix=policy_determinsiticly_to_actions(env=influencer_env_sync(env_config_main),q_tensor=q_mean,intial_postion=np.array([.1,.2,.3,.8]),num_step=100,temperature=0.5)"
   ]
  },
  {
   "cell_type": "code",
   "execution_count": null,
   "metadata": {},
   "outputs": [
    {
     "data": {
      "image/png": "[encoded data removed]",
      "text/plain": [
       "<Figure size 640x480 with 1 Axes>"
      ]
     },
     "metadata": {},
     "output_type": "display_data"
    },
    {
     "data": {
      "image/png": "[encoded data removed]",
      "text/plain": [
       "<Figure size 640x480 with 1 Axes>"
      ]
     },
     "metadata": {},
     "output_type": "display_data"
    }
   ],
   "source": [
    "pos_plot(pos_matrix=pos_matrix,possible_agents=env.possible_agents,bounds=env.domain_bounds)\n",
    "reward_plot(reward_matrix=reward_matrix,possible_agents=env.possible_agents)"
   ]
  },
  {
   "cell_type": "code",
   "execution_count": null,
   "metadata": {},
   "outputs": [],
   "source": []
  }
 ],
 "metadata": {
  "kernelspec": {
   "display_name": "infl_clean",
   "language": "python",
   "name": "python3"
  },
  "language_info": {
   "codemirror_mode": {
    "name": "ipython",
    "version": 3
   },
   "file_extension": ".py",
   "mimetype": "text/x-python",
   "name": "python",
   "nbconvert_exporter": "python",
   "pygments_lexer": "ipython3",
   "version": "3.11.11"
  }
 },
 "nbformat": 4,
 "nbformat_minor": 2
}
